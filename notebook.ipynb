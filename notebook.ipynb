{
 "cells": [
  {
   "cell_type": "code",
   "execution_count": null,
   "metadata": {},
   "outputs": [],
   "source": [
    "from match import * \n",
    "\n",
    "PrevTour = None\n",
    "n = 8\n",
    "counter = 1\n",
    "with open(\"Data.txt\",\"w\") as f:\n",
    "    f.write(\"Data = [ \")"
   ]
  },
  {
   "cell_type": "code",
   "execution_count": null,
   "metadata": {},
   "outputs": [],
   "source": [
    "m = int(pow(2, n))\n",
    "turnament = Tournament(n - 1) if PrevTour == None else PrevTour\n",
    "print(turnament)\n",
    "while True:\n",
    "    for i in range(50):\n",
    "        turnament.rank()\n",
    "        # GenData = [   \n",
    "        #             Match(turnament.ranking[i], turnament.ranking[i + 1]).getResult(\n",
    "        #                 False\n",
    "        #             )\n",
    "        #             for i in range(0, len(turnament.ranking), 2)\n",
    "        #         ]\n",
    "        # GenData = [(x,z) for x,y,z,w in GenData]\n",
    "        # GenData = [x for par in GenData for x in par]\n",
    "        GenData = [fitness(agent) for agent in turnament.ranking]\n",
    "\n",
    "        with open(\"Data.txt\", \"a\") as f:\n",
    "            f.write(str(GenData) + \", \")\n",
    "        \n",
    "        counter += 1\n",
    "        \n",
    "\n",
    "        print(counter)\n",
    "        # print(\n",
    "        #     Match(turnament.ranking[0], turnament.ranking[1]).getResult(\n",
    "        #          False\n",
    "        #     )\n",
    "        # )\n",
    "        PrevTour = turnament\n",
    "        turnament = Tournament(\n",
    "            reproduce(\n",
    "                turnament.ranking,\n",
    "                Keep=m // 2 + m // 32,\n",
    "                Mixes=m // 16,\n",
    "                Selections=m // 16,\n",
    "                SingleMutations=m // 16,\n",
    "                SlabMutations=m // 32,\n",
    "                RainMutations=m // 16,\n",
    "            )\n",
    "        )"
   ]
  },
  {
   "cell_type": "code",
   "execution_count": null,
   "metadata": {},
   "outputs": [],
   "source": [
    "from os import system\n",
    "system(\"copy Data.txt Data.py\")\n",
    "with open(\"Data.py\", \"a\") as f:\n",
    "            f.write(\"]\")"
   ]
  },
  {
   "cell_type": "code",
   "execution_count": null,
   "metadata": {},
   "outputs": [],
   "source": [
    "import Data \n",
    "import importlib\n",
    "from statistics import mode, median\n",
    "importlib.reload(Data)\n",
    " \n",
    "Max = [max([val for val in gen]) for gen in Data.Data]\n",
    "Avg = [sum([val for val in gen])/len(gen) for gen in Data.Data]\n",
    "Mode =[mode([val for val in gen]) for gen in Data.Data]\n",
    "Median =[median([val for val in gen]) for gen in Data.Data]"
   ]
  },
  {
   "cell_type": "code",
   "execution_count": null,
   "metadata": {},
   "outputs": [],
   "source": [
    "import Ploter as plt\n",
    "importlib.reload(plt)\n",
    "plt.plot(Avg,[],{2: 'black', \"plot\":\"tab:blue\", 1:\"tab:purple\" },\"Avg\")\n",
    "plt.plot(Max,[],{2: 'black', \"plot\":\"c\" , 1: \"teal\" },\"Max\")\n",
    "plt.plot(Mode,[],{2: 'black', \"plot\":\"c\" , 1: \"teal\" },\"Mode\")\n",
    "plt.plot(Median,[],{2: 'black', \"plot\":\"c\" , 1: \"teal\" },\"Median\")\n"
   ]
  },
  {
   "cell_type": "code",
   "execution_count": null,
   "metadata": {},
   "outputs": [],
   "source": [
    "PrevTour"
   ]
  }
 ],
 "metadata": {
  "kernelspec": {
   "display_name": "Python 3",
   "language": "python",
   "name": "python3"
  },
  "language_info": {
   "codemirror_mode": {
    "name": "ipython",
    "version": 3
   },
   "file_extension": ".py",
   "mimetype": "text/x-python",
   "name": "python",
   "nbconvert_exporter": "python",
   "pygments_lexer": "ipython3",
   "version": "3.12.3"
  }
 },
 "nbformat": 4,
 "nbformat_minor": 2
}
